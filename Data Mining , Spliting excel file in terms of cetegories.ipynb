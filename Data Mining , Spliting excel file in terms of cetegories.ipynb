{
 "cells": [
  {
   "cell_type": "code",
   "execution_count": 6,
   "id": "cd9231da",
   "metadata": {},
   "outputs": [],
   "source": [
    "import pandas as pd"
   ]
  },
  {
   "cell_type": "code",
   "execution_count": 8,
   "id": "b19b07fc",
   "metadata": {},
   "outputs": [
    {
     "name": "stderr",
     "output_type": "stream",
     "text": [
      "C:\\Users\\Sohai\\.conda\\envs\\notebook\\Lib\\site-packages\\openpyxl\\worksheet\\header_footer.py:48: UserWarning: Cannot parse header or footer so it will be ignored\n",
      "  warn(\"\"\"Cannot parse header or footer so it will be ignored\"\"\")\n"
     ]
    }
   ],
   "source": [
    "df = pd.read_excel('Sir Syed College Of Medical Sciences For Girls, Karachi (1).xlsx')"
   ]
  },
  {
   "cell_type": "code",
   "execution_count": 9,
   "id": "b931a790",
   "metadata": {},
   "outputs": [
    {
     "data": {
      "text/plain": [
       "Index(['S No.', 'position', 'status', 'App_No', 'Name of Candidate',\n",
       "       'Father's Name', 'program', 'tot_score', 'cand_cnic', 'cand_email',\n",
       "       'cand_mobileno', 'cand_phoneNo', 'cand_PrestAddress',\n",
       "       'cand_permAddress', 'app_id', '1ST OPTION'],\n",
       "      dtype='object')"
      ]
     },
     "execution_count": 9,
     "metadata": {},
     "output_type": "execute_result"
    }
   ],
   "source": [
    "df.columns"
   ]
  },
  {
   "cell_type": "code",
   "execution_count": 13,
   "id": "be702ffb",
   "metadata": {},
   "outputs": [],
   "source": [
    "df.drop(['app_id', 'position', 'status', 'program', 'App_No'], axis=1, inplace=True)"
   ]
  },
  {
   "cell_type": "code",
   "execution_count": 16,
   "id": "19783ea6",
   "metadata": {},
   "outputs": [
    {
     "data": {
      "text/plain": [
       "1ST OPTION\n",
       "SSCMS      74\n",
       "LCMD       47\n",
       "LNH        45\n",
       "ZMC        40\n",
       "BQUI       37\n",
       "JMDC       22\n",
       "MMDC       19\n",
       "UMDC       16\n",
       "ISRA        9\n",
       "ALTBRI      8\n",
       "HAMDARD     8\n",
       "IMCTMK      8\n",
       "SRMC        6\n",
       "Name: count, dtype: int64"
      ]
     },
     "execution_count": 16,
     "metadata": {},
     "output_type": "execute_result"
    }
   ],
   "source": [
    "df['1ST OPTION'].value_counts()"
   ]
  },
  {
   "cell_type": "code",
   "execution_count": 18,
   "id": "9ba3f1e4",
   "metadata": {},
   "outputs": [
    {
     "name": "stderr",
     "output_type": "stream",
     "text": [
      "C:\\Users\\Sohai\\.conda\\envs\\notebook\\Lib\\site-packages\\openpyxl\\worksheet\\header_footer.py:48: UserWarning: Cannot parse header or footer so it will be ignored\n",
      "  warn(\"\"\"Cannot parse header or footer so it will be ignored\"\"\")\n"
     ]
    },
    {
     "name": "stdout",
     "output_type": "stream",
     "text": [
      "Excel sheets created successfully in 'excel_sheets_categories' folder!\n"
     ]
    }
   ],
   "source": [
    "import os\n",
    "import pandas as pd\n",
    "\n",
    "# Load your dataframe (replace 'your_file.xlsx' with your actual file)\n",
    "df = pd.read_excel('Sir Syed College Of Medical Sciences For Girls, Karachi (1).xlsx')\n",
    "df.drop(['app_id', 'position', 'status', 'program', 'App_No'], axis=1, inplace=True)\n",
    "\n",
    "# Create the folder if it doesn't exist\n",
    "folder_name = \"excel_sheets_categories\"\n",
    "os.makedirs(folder_name, exist_ok=True)\n",
    "\n",
    "# Loop through each unique value in '1ST OPTION'\n",
    "for option in df['1ST OPTION'].value_counts().index:\n",
    "    # Filter rows where '1ST OPTION' matches the current option\n",
    "    filtered_df = df[df['1ST OPTION'] == option]\n",
    "\n",
    "    # Sort by 'tot_score' in descending order\n",
    "    filtered_df = filtered_df.sort_values(by=\"tot_score\", ascending=False)\n",
    "\n",
    "    # Save to an Excel file\n",
    "    file_path = os.path.join(folder_name, f\"{option}.xlsx\")\n",
    "    filtered_df.to_excel(file_path, index=False)\n",
    "\n",
    "print(\"Excel sheets created successfully in 'excel_sheets_categories' folder!\")\n"
   ]
  },
  {
   "cell_type": "code",
   "execution_count": null,
   "id": "69237774",
   "metadata": {},
   "outputs": [],
   "source": []
  }
 ],
 "metadata": {
  "kernelspec": {
   "display_name": "Python 3 (ipykernel)",
   "language": "python",
   "name": "python3"
  },
  "language_info": {
   "codemirror_mode": {
    "name": "ipython",
    "version": 3
   },
   "file_extension": ".py",
   "mimetype": "text/x-python",
   "name": "python",
   "nbconvert_exporter": "python",
   "pygments_lexer": "ipython3",
   "version": "3.11.9"
  }
 },
 "nbformat": 4,
 "nbformat_minor": 5
}
